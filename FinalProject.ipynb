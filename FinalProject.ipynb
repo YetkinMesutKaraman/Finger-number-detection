{
 "cells": [
  {
   "cell_type": "code",
   "execution_count": 283,
   "metadata": {
    "collapsed": true
   },
   "outputs": [],
   "source": [
    "#from supportFunctions import *\n",
    "import cPickle as pickle\n",
    "from __future__ import division\n",
    "import numpy as np\n",
    "import matplotlib.pyplot as plt\n",
    "from sklearn import tree\n",
    "\n",
    "import matplotlib.pyplot as plt\n",
    "import numpy\n",
    "import scipy.cluster.hierarchy as hcluster\n",
    "\n",
    "\n"
   ]
  },
  {
   "cell_type": "code",
   "execution_count": 284,
   "metadata": {
    "collapsed": true
   },
   "outputs": [],
   "source": [
    "def extractFeatures(imageDict, dist = 4):\n",
    "    n = imageDict['numPointsInBox']\n",
    "    y = np.zeros(n)\n",
    "    \n",
    "    v1,v2,h1,h2 = imageDict['boxEdges']\n",
    "    \n",
    "    img = imageDict['image1bit']\n",
    "    featuresList = []\n",
    "    \n",
    "    fingerSet = imageDict['allFingerPoints']\n",
    "\n",
    "    c = 0 \n",
    "    for i in range(h1,h2):\n",
    "        for j in range(v1,v2):\n",
    "            x_matrix  = img[i-dist-1:i+dist , j-dist-1: j+dist]\n",
    "            xVec = x_matrix.ravel()\n",
    "            featuresList.append(xVec)\n",
    "            \n",
    "            if max(np.sum([i , j] == fingerSet, axis = 1 )) == 2:\n",
    "                y[c] = 1\n",
    "            \n",
    "            c = c + 1\n",
    "\n",
    "    X = np.vstack((featuresList))\n",
    "    return(X,y)\n",
    "    "
   ]
  },
  {
   "cell_type": "code",
   "execution_count": 285,
   "metadata": {
    "collapsed": true
   },
   "outputs": [],
   "source": [
    "def extractExamplesFromList(imageList, dist = 4):\n",
    "    allFeaturesList = []\n",
    "    allTargetList = []\n",
    "\n",
    "    for i, imageDict in enumerate(imageList):\n",
    "        features, target = extractFeatures(imageDict, dist = dist)\n",
    "        allFeaturesList.append(features)\n",
    "        allTargetList.append(target)\n",
    "\n",
    "    x = np.vstack((allFeaturesList))\n",
    "    y = np.hstack((allTargetList))\n",
    "    \n",
    "    return x, y"
   ]
  },
  {
   "cell_type": "code",
   "execution_count": 337,
   "metadata": {
    "collapsed": true
   },
   "outputs": [],
   "source": [
    "def Reshape_to_yHatMatrix(testingExamples, yHat):\n",
    "    number_of_images = len(testingExamples)\n",
    "    \n",
    "    image_sizes = []\n",
    "    result = []\n",
    "    c = 0 \n",
    "    for i in range(number_of_images):\n",
    "        dummy_idx = (testingExamples[i]['boxHeight'],testingExamples[i]['boxWidth'])\n",
    "        image_sizes.append(dummy_idx)\n",
    "        \n",
    "        test_im = yHat[c:(c + dummy_idx[0]*dummy_idx[1])] \n",
    "        c = c + (dummy_idx[0] * dummy_idx[1])\n",
    "        \n",
    "        test_im_matrix = test_im.reshape((dummy_idx[0], dummy_idx[1]))\n",
    "        result.append(test_im_matrix)\n",
    "    \n",
    "    return(result)"
   ]
  },
  {
   "cell_type": "code",
   "execution_count": 338,
   "metadata": {
    "collapsed": true
   },
   "outputs": [],
   "source": [
    "def remove_small_clusters(clusters, min_finger_pixel):\n",
    "    unique = set(clusters)\n",
    "    for c in unique:\n",
    "        if sum(clusters == c) < min_finger_pixel:\n",
    "            clusters = np.delete(clusters, np.where(clusters == c))\n",
    "    return(clusters)"
   ]
  },
  {
   "cell_type": "code",
   "execution_count": 339,
   "metadata": {
    "collapsed": true
   },
   "outputs": [],
   "source": [
    "pickleFileName = 'fingerDataSet' + '.pickle'\n",
    "pickleFile = open(pickleFileName, 'rb')\n",
    "data = pickle.load(pickleFile)\n",
    "pickleFile.close()"
   ]
  },
  {
   "cell_type": "code",
   "execution_count": 340,
   "metadata": {},
   "outputs": [],
   "source": [
    "#Constructing Traning Data Set:\n",
    "trainingExampleIndices = np.arange(0,39)\n",
    "trainingExamples = [data[index] for index in trainingExampleIndices]\n",
    "trainX, trainY = extractExamplesFromList(trainingExamples, dist = 4)\n",
    "\n",
    "#Constructing Test Data Set:\n",
    "testingExampleIndices = [50, 51, 52]\n",
    "testingExamples = [data[index] for index in testingExampleIndices]\n",
    "testX, testY = extractExamplesFromList(testingExamples, dist = 4)\n"
   ]
  },
  {
   "cell_type": "code",
   "execution_count": 341,
   "metadata": {
    "collapsed": true
   },
   "outputs": [],
   "source": [
    "clf = tree.DecisionTreeClassifier(criterion = 'entropy', max_depth = 3)\n",
    "clf = clf.fit(trainX, trainY)\n",
    "yHat = clf.predict(testX)"
   ]
  },
  {
   "cell_type": "code",
   "execution_count": 342,
   "metadata": {},
   "outputs": [
    {
     "data": {
      "image/png": "[encoded data removed]",
      "text/plain": [
       "<matplotlib.figure.Figure at 0x11bc08990>"
      ]
     },
     "metadata": {},
     "output_type": "display_data"
    }
   ],
   "source": [
    "Y_hat = Reshape_to_yHatMatrix(testingExamples, yHat)\n",
    "\n",
    "fig = plt.figure(0, (8, 4))\n",
    "plt.subplot(1,3,1)\n",
    "plt.imshow(Y_hat[0])\n",
    "plt.subplot(1,3,2)\n",
    "plt.imshow(Y_hat[1])\n",
    "plt.subplot(1,3,3)\n",
    "plt.imshow(Y_hat[2])\n",
    "plt.show()"
   ]
  },
  {
   "cell_type": "code",
   "execution_count": 292,
   "metadata": {},
   "outputs": [
    {
     "data": {
      "text/plain": [
       "(132, 2)"
      ]
     },
     "execution_count": 292,
     "metadata": {},
     "output_type": "execute_result"
    }
   ],
   "source": [
    "X_i = np.where(Y_hat[1] == 1)[0]\n",
    "X_j = np.where(Y_hat[1] == 1)[1]\n",
    "\n",
    "data  = np.column_stack((X_i, X_j))\n",
    "data.shape"
   ]
  },
  {
   "cell_type": "code",
   "execution_count": 293,
   "metadata": {},
   "outputs": [
    {
     "data": {
      "image/png": "[encoded data removed]",
      "text/plain": [
       "<matplotlib.figure.Figure at 0x11c88c590>"
      ]
     },
     "metadata": {},
     "output_type": "display_data"
    }
   ],
   "source": [
    "# clustering\n",
    "thresh = 1.5\n",
    "clusters = hcluster.fclusterdata(data, thresh, criterion=\"distance\")\n",
    "#removing small clusters (caused by false positives)\n",
    "new_clusters = remove_small_clusters(clusters,15)\n",
    "\n",
    "# plotting\n",
    "plt.scatter(*numpy.transpose(data), c=clusters)\n",
    "plt.axis(\"equal\")\n",
    "title = \"threshold: %f, number of fingers: %d\" % (thresh, len(set(new_clusters)))\n",
    "plt.title(title)\n",
    "plt.show()\n"
   ]
  },
  {
   "cell_type": "code",
   "execution_count": null,
   "metadata": {
    "collapsed": true
   },
   "outputs": [],
   "source": []
  },
  {
   "cell_type": "code",
   "execution_count": null,
   "metadata": {
    "collapsed": true
   },
   "outputs": [],
   "source": []
  },
  {
   "cell_type": "code",
   "execution_count": null,
   "metadata": {
    "collapsed": true
   },
   "outputs": [],
   "source": []
  },
  {
   "cell_type": "code",
   "execution_count": null,
   "metadata": {
    "collapsed": true
   },
   "outputs": [],
   "source": []
  },
  {
   "cell_type": "code",
   "execution_count": null,
   "metadata": {
    "collapsed": true
   },
   "outputs": [],
   "source": []
  },
  {
   "cell_type": "code",
   "execution_count": null,
   "metadata": {
    "collapsed": true
   },
   "outputs": [],
   "source": []
  },
  {
   "cell_type": "code",
   "execution_count": null,
   "metadata": {
    "collapsed": true
   },
   "outputs": [],
   "source": []
  },
  {
   "cell_type": "code",
   "execution_count": null,
   "metadata": {
    "collapsed": true
   },
   "outputs": [],
   "source": []
  },
  {
   "cell_type": "code",
   "execution_count": null,
   "metadata": {
    "collapsed": true
   },
   "outputs": [],
   "source": []
  }
 ],
 "metadata": {
  "kernelspec": {
   "display_name": "Python 2",
   "language": "python",
   "name": "python2"
  },
  "language_info": {
   "codemirror_mode": {
    "name": "ipython",
    "version": 2
   },
   "file_extension": ".py",
   "mimetype": "text/x-python",
   "name": "python",
   "nbconvert_exporter": "python",
   "pygments_lexer": "ipython2",
   "version": "2.7.14"
  }
 },
 "nbformat": 4,
 "nbformat_minor": 2
}
